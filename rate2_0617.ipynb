{
 "cells": [
  {
   "cell_type": "code",
   "execution_count": 1,
   "metadata": {},
   "outputs": [],
   "source": [
    "#import necessary tools\n",
    "import re\n",
    "from string import digits\n",
    "import pandas as pd\n",
    "import numpy as np"
   ]
  },
  {
   "cell_type": "code",
   "execution_count": 2,
   "metadata": {},
   "outputs": [],
   "source": [
    "#read the documents\n",
    "with open('data/PVDM_rating2-102-1.txt','rb') as f:\n",
    "    contents = f.read()\n",
    "    contents = contents.decode(\"utf-16\").rstrip(\"\\n\")\n",
    "    contents = contents.split(\"\\r\\n\") #maybe need to strip \\t?"
   ]
  },
  {
   "cell_type": "code",
   "execution_count": 4,
   "metadata": {},
   "outputs": [],
   "source": [
    "img =[]\n",
    "Choice_RESP = []\n",
    "Choice_RT=[]\n",
    "\n",
    "\n",
    "#loop through each line\n",
    "for line in range(len(contents)-20):\n",
    "    \n",
    "    #this line of \"running: listlike/black\" is in the fixed position of each of 4 conditions (b1b2l1l2)\n",
    "    #therefore, we use it as our anchor to locate meaningful blocks\n",
    "\n",
    "    like_check = contents[line+7].startswith(\"\\tRunning: ListRate\") == True\n",
    "    #black_check = contents[line+5].startswith(\"\\tRunning: ListDark\") == True\n",
    "    \n",
    "    if contents[line] == '\\t*** LogFrame Start ***' and like_check:\n",
    "        \n",
    "        #loop inside the meaningful block                \n",
    "        for inner_line in range(20):\n",
    "            \n",
    "            new_line = line + inner_line\n",
    "            \n",
    "            #mark image\n",
    "            if contents[new_line].startswith(\"\\timg: \"):\n",
    "                imga = contents[new_line].split(\"img: \",1)[1] \n",
    "                #print(\"imag is\", imga)\n",
    "                img.append(imga)\n",
    "                \n",
    "             \n",
    "            #mark choice Like response \n",
    "            if contents[new_line].startswith(\"\\tSlideR.RESP: \") and contents[new_line].split(\"\\tSlideR.RESP: \",1) != ['', '']:\n",
    "\n",
    "                Choice_RESPa = contents[new_line].split(\"\\tSlideR.RESP: \",1)[1]\n",
    "                Choice_RESPa =[''.join(c for c in Choice_RESPa if c in digits)]\n",
    "                Choice_RESP=Choice_RESP+Choice_RESPa\n",
    "                \n",
    "            #mark choice Like response time\n",
    "            if contents[new_line].startswith(\"\\tSlideR.RT: \") and contents[new_line].split(\"\\tSlideR.RT: \",1) != ['']:\n",
    "                \n",
    "                Choice_RTa = contents[new_line].split(\"\\tSlideR.RT: \",1)[1]\n",
    "                Choice_RTa =[''.join(c for c in Choice_RTa if c in digits)]\n",
    "                Choice_RTa = list([float(i) for i in Choice_RTa])\n",
    "                Choice_RT=Choice_RT+Choice_RTa\n",
    "\n",
    "\n",
    "#Assign variable names  \n",
    "        \n",
    "img = [int(i) for i in img] \n",
    "img_df = pd.DataFrame(img)\n",
    "img_df.columns = ['imgL2']\n",
    "\n",
    "Choice_RESP = [int(i) for i in Choice_RESP] \n",
    "Choice_RESP_df = pd.DataFrame(Choice_RESP)\n",
    "Choice_RESP_df.columns = ['rateL2']\n",
    "\n",
    "Choice_RT = [int(i) for i in Choice_RT] \n",
    "Choice_RT_df = pd.DataFrame(Choice_RT)\n",
    "Choice_RT_df.columns = ['rtL2']\n"
   ]
  },
  {
   "cell_type": "code",
   "execution_count": 5,
   "metadata": {},
   "outputs": [
    {
     "data": {
      "text/html": [
       "<div>\n",
       "<style scoped>\n",
       "    .dataframe tbody tr th:only-of-type {\n",
       "        vertical-align: middle;\n",
       "    }\n",
       "\n",
       "    .dataframe tbody tr th {\n",
       "        vertical-align: top;\n",
       "    }\n",
       "\n",
       "    .dataframe thead th {\n",
       "        text-align: right;\n",
       "    }\n",
       "</style>\n",
       "<table border=\"1\" class=\"dataframe\">\n",
       "  <thead>\n",
       "    <tr style=\"text-align: right;\">\n",
       "      <th></th>\n",
       "      <th>sub</th>\n",
       "      <th>imgL2</th>\n",
       "      <th>rateL2</th>\n",
       "      <th>rtL2</th>\n",
       "    </tr>\n",
       "  </thead>\n",
       "  <tbody>\n",
       "    <tr>\n",
       "      <th>0</th>\n",
       "      <td>102</td>\n",
       "      <td>121</td>\n",
       "      <td>5</td>\n",
       "      <td>6562</td>\n",
       "    </tr>\n",
       "    <tr>\n",
       "      <th>1</th>\n",
       "      <td>102</td>\n",
       "      <td>122</td>\n",
       "      <td>2</td>\n",
       "      <td>4896</td>\n",
       "    </tr>\n",
       "  </tbody>\n",
       "</table>\n",
       "</div>"
      ],
      "text/plain": [
       "   sub  imgL2  rateL2  rtL2\n",
       "0  102    121       5  6562\n",
       "1  102    122       2  4896"
      ]
     },
     "execution_count": 5,
     "metadata": {},
     "output_type": "execute_result"
    }
   ],
   "source": [
    "#merge the data\n",
    "sub_id = contents[16].split(\"Subject: \",1)[1] \n",
    "sub_df = pd.DataFrame(np.repeat(sub_id, img_df.shape[0], axis = 0))\n",
    "sub_df.columns = ['sub']\n",
    "\n",
    "\n",
    "all = pd.concat([sub_df.reset_index(drop=True), img_df], axis=1)\n",
    "all = pd.concat([all.reset_index(drop=True), Choice_RESP_df], axis=1)\n",
    "all = pd.concat([all.reset_index(drop=True), Choice_RT_df], axis=1)\n",
    "\n",
    "all"
   ]
  },
  {
   "cell_type": "code",
   "execution_count": 6,
   "metadata": {},
   "outputs": [
    {
     "data": {
      "text/html": [
       "<div>\n",
       "<style scoped>\n",
       "    .dataframe tbody tr th:only-of-type {\n",
       "        vertical-align: middle;\n",
       "    }\n",
       "\n",
       "    .dataframe tbody tr th {\n",
       "        vertical-align: top;\n",
       "    }\n",
       "\n",
       "    .dataframe thead th {\n",
       "        text-align: right;\n",
       "    }\n",
       "</style>\n",
       "<table border=\"1\" class=\"dataframe\">\n",
       "  <thead>\n",
       "    <tr style=\"text-align: right;\">\n",
       "      <th></th>\n",
       "      <th>sub</th>\n",
       "      <th>imgL2</th>\n",
       "      <th>rateL2</th>\n",
       "      <th>rtL2</th>\n",
       "    </tr>\n",
       "  </thead>\n",
       "  <tbody>\n",
       "    <tr>\n",
       "      <th>0</th>\n",
       "      <td>102</td>\n",
       "      <td>121</td>\n",
       "      <td>5</td>\n",
       "      <td>6562</td>\n",
       "    </tr>\n",
       "    <tr>\n",
       "      <th>1</th>\n",
       "      <td>102</td>\n",
       "      <td>122</td>\n",
       "      <td>2</td>\n",
       "      <td>4896</td>\n",
       "    </tr>\n",
       "  </tbody>\n",
       "</table>\n",
       "</div>"
      ],
      "text/plain": [
       "   sub  imgL2  rateL2  rtL2\n",
       "0  102    121       5  6562\n",
       "1  102    122       2  4896"
      ]
     },
     "execution_count": 6,
     "metadata": {},
     "output_type": "execute_result"
    }
   ],
   "source": [
    "#remove last NA line if needed\n",
    "\n",
    "#all_all= all[:-1]\n",
    "\n",
    "all_all= all\n",
    "\n",
    "\n",
    "all_all"
   ]
  },
  {
   "cell_type": "code",
   "execution_count": 8,
   "metadata": {},
   "outputs": [],
   "source": [
    "\n",
    "#export\n",
    "all_all.to_excel(\"frate2_102.xlsx\")\n",
    "\n",
    "#has wrong first column, needs to manually remove"
   ]
  },
  {
   "cell_type": "code",
   "execution_count": null,
   "metadata": {},
   "outputs": [],
   "source": []
  },
  {
   "cell_type": "code",
   "execution_count": null,
   "metadata": {},
   "outputs": [],
   "source": []
  }
 ],
 "metadata": {
  "kernelspec": {
   "display_name": "Python 3",
   "language": "python",
   "name": "python3"
  },
  "language_info": {
   "codemirror_mode": {
    "name": "ipython",
    "version": 3
   },
   "file_extension": ".py",
   "mimetype": "text/x-python",
   "name": "python",
   "nbconvert_exporter": "python",
   "pygments_lexer": "ipython3",
   "version": "3.7.6"
  }
 },
 "nbformat": 4,
 "nbformat_minor": 4
}
